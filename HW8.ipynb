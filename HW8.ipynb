{
 "cells": [
  {
   "cell_type": "code",
   "execution_count": 19,
   "id": "c6b1a077-adf7-464e-9aa2-1925cec78caa",
   "metadata": {},
   "outputs": [
    {
     "name": "stdout",
     "output_type": "stream",
     "text": [
      "Requirement already satisfied: matplotlib in /opt/anaconda3/envs/myenv/lib/python3.8/site-packages (3.7.5)\n",
      "Requirement already satisfied: contourpy>=1.0.1 in /opt/anaconda3/envs/myenv/lib/python3.8/site-packages (from matplotlib) (1.1.1)\n",
      "Requirement already satisfied: cycler>=0.10 in /opt/anaconda3/envs/myenv/lib/python3.8/site-packages (from matplotlib) (0.12.1)\n",
      "Requirement already satisfied: fonttools>=4.22.0 in /opt/anaconda3/envs/myenv/lib/python3.8/site-packages (from matplotlib) (4.56.0)\n",
      "Requirement already satisfied: kiwisolver>=1.0.1 in /opt/anaconda3/envs/myenv/lib/python3.8/site-packages (from matplotlib) (1.4.7)\n",
      "Requirement already satisfied: numpy<2,>=1.20 in /opt/anaconda3/envs/myenv/lib/python3.8/site-packages (from matplotlib) (1.24.2)\n",
      "Requirement already satisfied: packaging>=20.0 in /opt/anaconda3/envs/myenv/lib/python3.8/site-packages (from matplotlib) (24.1)\n",
      "Requirement already satisfied: pillow>=6.2.0 in /opt/anaconda3/envs/myenv/lib/python3.8/site-packages (from matplotlib) (10.4.0)\n",
      "Requirement already satisfied: pyparsing>=2.3.1 in /opt/anaconda3/envs/myenv/lib/python3.8/site-packages (from matplotlib) (3.1.4)\n",
      "Requirement already satisfied: python-dateutil>=2.7 in /opt/anaconda3/envs/myenv/lib/python3.8/site-packages (from matplotlib) (2.9.0.post0)\n",
      "Requirement already satisfied: importlib-resources>=3.2.0 in /opt/anaconda3/envs/myenv/lib/python3.8/site-packages (from matplotlib) (6.4.0)\n",
      "Requirement already satisfied: zipp>=3.1.0 in /opt/anaconda3/envs/myenv/lib/python3.8/site-packages (from importlib-resources>=3.2.0->matplotlib) (3.20.2)\n",
      "Requirement already satisfied: six>=1.5 in /opt/anaconda3/envs/myenv/lib/python3.8/site-packages (from python-dateutil>=2.7->matplotlib) (1.16.0)\n",
      "S,K,T,r,sigma= 90 100 1 0.01 0.3\n",
      "T=1下, BS_call= 7.3253\n"
     ]
    }
   ],
   "source": [
    "import numpy as np # log和開根號需要\n",
    "import scipy.stats as si # 累積密度函數需要   \n",
    "\n",
    "S, K, T, r, sigma = 90, 100, 1, 0.01, 0.3\n",
    "\n",
    "# T=1年下買權價格\n",
    "d1 = (np.log(S/K)+(r+0.5*sigma**2)*T)/(sigma*np.sqrt(T))\n",
    "d2 = (np.log(S/K)+(r-0.5*sigma**2)*T)/(sigma*np.sqrt(T))\n",
    "\n",
    "# 計算買權價格 C = S*N(d1)- Ke^(-rT)*N(d2)                                \n",
    "call = S*si.norm.cdf(d1,0.0,1.0)-K*np.exp(-r*T)*si.norm.cdf(d2,0.0,1.0)\n",
    "\n",
    "print ('S,K,T,r,sigma=',S,K,T,r,sigma)\n",
    "print ('T=1下, BS_call=',round(call,4))"
   ]
  },
  {
   "cell_type": "code",
   "execution_count": 8,
   "id": "87be6cbe-cb4f-496d-b4cb-b9ae3ae38898",
   "metadata": {},
   "outputs": [
    {
     "name": "stdout",
     "output_type": "stream",
     "text": [
      "S,K,T,r,sigma= 90 100 0.9 0.01 0.3\n",
      "T=0.9下, BS_call= 6.7502\n"
     ]
    }
   ],
   "source": [
    "# T=0.9年下買權價格\n",
    "S, K, T, r, sigma = 90, 100, 0.9, 0.01, 0.3\n",
    "d1 = (np.log(S/K)+(r+0.5*sigma**2)*T)/(sigma*np.sqrt(T))\n",
    "d2 = (np.log(S/K)+(r-0.5*sigma**2)*T)/(sigma*np.sqrt(T))\n",
    "\n",
    "# 計算買權價格 C = S*N(d1)- Ke^(-rT)*N(d2)                                \n",
    "call = S*si.norm.cdf(d1,0.0,1.0)-K*np.exp(-r*T)*si.norm.cdf(d2,0.0,1.0)\n",
    "\n",
    "print ('S,K,T,r,sigma=',S,K,T,r,sigma)\n",
    "print ('T=0.9下, BS_call=',round(call,4))"
   ]
  },
  {
   "cell_type": "code",
   "execution_count": 9,
   "id": "e96e89c8-3fb7-4295-bbfc-e109a7668c86",
   "metadata": {},
   "outputs": [
    {
     "name": "stdout",
     "output_type": "stream",
     "text": [
      "S,K,T,r,sigma= 90 100 0.5 0.01 0.3\n",
      "T=0.5下, BS_call= 4.1281\n"
     ]
    }
   ],
   "source": [
    "# T=0.5年下買權價格\n",
    "S, K, T, r, sigma = 90, 100, 0.5, 0.01, 0.3\n",
    "d1 = (np.log(S/K)+(r+0.5*sigma**2)*T)/(sigma*np.sqrt(T))\n",
    "d2 = (np.log(S/K)+(r-0.5*sigma**2)*T)/(sigma*np.sqrt(T))\n",
    "\n",
    "# 計算買權價格 C = S*N(d1)- Ke^(-rT)*N(d2)                                \n",
    "call = S*si.norm.cdf(d1,0.0,1.0)-K*np.exp(-r*T)*si.norm.cdf(d2,0.0,1.0)\n",
    "\n",
    "print ('S,K,T,r,sigma=',S,K,T,r,sigma)\n",
    "print ('T=0.5下, BS_call=',round(call,4))"
   ]
  },
  {
   "cell_type": "code",
   "execution_count": 10,
   "id": "8a2e2f42-3a41-43bc-8033-a83ab3814f76",
   "metadata": {},
   "outputs": [
    {
     "name": "stdout",
     "output_type": "stream",
     "text": [
      "S,K,T,r,sigma= 90 100 0.3 0.01 0.3\n",
      "T=0.3下, BS_call= 2.5242\n"
     ]
    }
   ],
   "source": [
    "# T=0.3年下買權價格\n",
    "S, K, T, r, sigma = 90, 100, 0.3, 0.01, 0.3\n",
    "d1 = (np.log(S/K)+(r+0.5*sigma**2)*T)/(sigma*np.sqrt(T))\n",
    "d2 = (np.log(S/K)+(r-0.5*sigma**2)*T)/(sigma*np.sqrt(T))\n",
    "\n",
    "# 計算買權價格 C = S*N(d1)- Ke^(-rT)*N(d2)                                \n",
    "call = S*si.norm.cdf(d1,0.0,1.0)-K*np.exp(-r*T)*si.norm.cdf(d2,0.0,1.0)\n",
    "\n",
    "print ('S,K,T,r,sigma=',S,K,T,r,sigma)\n",
    "print ('T=0.3下, BS_call=',round(call,4))"
   ]
  },
  {
   "cell_type": "code",
   "execution_count": 11,
   "id": "97a08f07-6348-427a-9cac-b3777cedbaad",
   "metadata": {},
   "outputs": [
    {
     "name": "stdout",
     "output_type": "stream",
     "text": [
      "S,K,T,r,sigma= 90 100 0.1 0.01 0.3\n",
      "T=0.1下, BS_call= 0.6167\n"
     ]
    }
   ],
   "source": [
    "# T=0.1年下買權價格\n",
    "S, K, T, r, sigma = 90, 100, 0.1, 0.01, 0.3\n",
    "d1 = (np.log(S/K)+(r+0.5*sigma**2)*T)/(sigma*np.sqrt(T))\n",
    "d2 = (np.log(S/K)+(r-0.5*sigma**2)*T)/(sigma*np.sqrt(T))\n",
    "\n",
    "# 計算買權價格 C = S*N(d1)- Ke^(-rT)*N(d2)                                \n",
    "call = S*si.norm.cdf(d1,0.0,1.0)-K*np.exp(-r*T)*si.norm.cdf(d2,0.0,1.0)\n",
    "\n",
    "print ('S,K,T,r,sigma=',S,K,T,r,sigma)\n",
    "print ('T=0.1下, BS_call=',round(call,4))"
   ]
  },
  {
   "cell_type": "code",
   "execution_count": 39,
   "id": "145e9d7a-98ac-4fd3-8b0f-e2ef5e90a803",
   "metadata": {},
   "outputs": [
    {
     "name": "stdout",
     "output_type": "stream",
     "text": [
      "T= 1.0 下, 買權價格為 7.3253\n",
      "T= 0.9 下, 買權價格為 6.7502\n",
      "T= 0.5 下, 買權價格為 4.1281\n",
      "T= 0.3 下, 買權價格為 2.5242\n",
      "T= 0.1 下, 買權價格為 0.6167\n"
     ]
    },
    {
     "data": {
      "image/png": "[encoded data removed]",
      "text/plain": [
       "<Figure size 640x480 with 1 Axes>"
      ]
     },
     "metadata": {},
     "output_type": "display_data"
    }
   ],
   "source": [
    "# 選擇權時間價值隨著到期日越近 越來越小\n",
    "# 透過函式改寫上方例子\n",
    "\n",
    "# 繪圖需要\n",
    "import matplotlib.pyplot as plt\n",
    "time = [1.0, 0.9, 0.5, 0.3, 0.1]\n",
    "S, K, r, sigma = 90, 100, 0.01, 0.3\n",
    "\n",
    "def BS_call(S,K,T,r,sigma):\n",
    "    d1 = (np.log(S/K)+(r+0.5*sigma**2)*T)/(sigma*np.sqrt(T))\n",
    "    d2 = (np.log(S/K)+(r-0.5*sigma**2)*T)/(sigma*np.sqrt(T))\n",
    "    call = S*si.norm.cdf(d1,0.0,1.0)-K*np.exp(-r*T)*si.norm.cdf(d2,0.0,1.0)\n",
    "    return call\n",
    "\n",
    "# 透過for迴圈計算不同到期日之間買權價格\n",
    "price = []\n",
    "for i in time:\n",
    "    print('T=',i,'下, 買權價格為',round(BS_call(S,K,i,r,sigma),4))\n",
    "    price.append(round(BS_call(S,K,i,r,sigma),4))\n",
    "\n",
    "fig = plt.figure() \n",
    "plt.plot(time,price)\n",
    "plt.xlabel('Maturity',{'fontsize':20,'color':'black'})    # 設定 x 軸標籤\n",
    "plt.ylabel('Call Price',{'fontsize':20,'color':'black'})  # 設定 y 軸標籤\n",
    "plt.show()  "
   ]
  },
  {
   "cell_type": "code",
   "execution_count": null,
   "id": "cf6034ce-011c-4441-a5ec-0477882e260e",
   "metadata": {},
   "outputs": [],
   "source": []
  }
 ],
 "metadata": {
  "kernelspec": {
   "display_name": "Python (myenv)",
   "language": "python",
   "name": "myenv"
  },
  "language_info": {
   "codemirror_mode": {
    "name": "ipython",
    "version": 3
   },
   "file_extension": ".py",
   "mimetype": "text/x-python",
   "name": "python",
   "nbconvert_exporter": "python",
   "pygments_lexer": "ipython3",
   "version": "3.8.18"
  }
 },
 "nbformat": 4,
 "nbformat_minor": 5
}
