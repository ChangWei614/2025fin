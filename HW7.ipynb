{
 "cells": [
  {
   "cell_type": "code",
   "execution_count": 6,
   "id": "fb93b809-3889-4134-947f-798ca319de65",
   "metadata": {},
   "outputs": [
    {
     "name": "stdin",
     "output_type": "stream",
     "text": [
      "請輸入所需費氏數列項數： 7\n"
     ]
    },
    {
     "name": "stdout",
     "output_type": "stream",
     "text": [
      "[1, 1, 2, 3, 5, 8, 13]\n",
      "[1, 0.5, 0.6666666666666666, 0.6, 0.625, 0.6153846153846154]\n"
     ]
    }
   ],
   "source": [
    "# 建構費氏數列\n",
    "fib = [1,1]\n",
    "ratio = [1]\n",
    "n = int(input('請輸入所需費氏數列項數：'))\n",
    "for i in range(2,n):\n",
    "    fib_new = fib[i-1]+fib[i-2]\n",
    "    fib.append(fib_new)\n",
    "    ratio_new = fib[i-1] / fib_new\n",
    "    ratio.append(ratio_new)\n",
    "print(fib)\n",
    "print(ratio)"
   ]
  },
  {
   "cell_type": "code",
   "execution_count": null,
   "id": "449413da-dbd2-46b9-9f2f-38d9b617aa5c",
   "metadata": {},
   "outputs": [],
   "source": []
  }
 ],
 "metadata": {
  "kernelspec": {
   "display_name": "Python (myenv)",
   "language": "python",
   "name": "myenv"
  },
  "language_info": {
   "codemirror_mode": {
    "name": "ipython",
    "version": 3
   },
   "file_extension": ".py",
   "mimetype": "text/x-python",
   "name": "python",
   "nbconvert_exporter": "python",
   "pygments_lexer": "ipython3",
   "version": "3.8.18"
  }
 },
 "nbformat": 4,
 "nbformat_minor": 5
}
