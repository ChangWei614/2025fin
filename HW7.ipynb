{
 "cells": [
  {
   "cell_type": "code",
   "execution_count": null,
   "id": "fb93b809-3889-4134-947f-798ca319de65",
   "metadata": {},
   "outputs": [],
   "source": [
    "fib = [1,1]\n",
    "n = int(input('請輸入所需費氏數列項數：'))\n",
    "for i in range(2,n):\n",
    "    fib_new = fib[i-1]+fib[i-2]\n",
    "    fib.append(fib_new)\n",
    "print(fib)"
   ]
  },
  {
   "cell_type": "code",
   "execution_count": null,
   "id": "449413da-dbd2-46b9-9f2f-38d9b617aa5c",
   "metadata": {},
   "outputs": [],
   "source": []
  }
 ],
 "metadata": {
  "kernelspec": {
   "display_name": "Python (myenv)",
   "language": "python",
   "name": "myenv"
  },
  "language_info": {
   "codemirror_mode": {
    "name": "ipython",
    "version": 3
   },
   "file_extension": ".py",
   "mimetype": "text/x-python",
   "name": "python",
   "nbconvert_exporter": "python",
   "pygments_lexer": "ipython3",
   "version": "3.8.18"
  }
 },
 "nbformat": 4,
 "nbformat_minor": 5
}
